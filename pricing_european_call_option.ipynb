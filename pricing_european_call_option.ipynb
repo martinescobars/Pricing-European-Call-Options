{
 "cells": [
  {
   "cell_type": "markdown",
   "metadata": {},
   "source": [
    "# Pricing-European-Call-Option\n",
    "\n",
    "Presents a class definition for a European call option in the Black- Scholes-Merton (1973) model."
   ]
  },
  {
   "cell_type": "code",
   "execution_count": 4,
   "metadata": {},
   "outputs": [
    {
     "name": "stdout",
     "output_type": "stream",
     "text": [
      "Intel MKL WARNING: Support of Intel(R) Streaming SIMD Extensions 4.2 (Intel(R) SSE4.2) enabled only processors has been deprecated. Intel oneAPI Math Kernel Library 2025.0 will require Intel(R) Advanced Vector Extensions (Intel(R) AVX) instructions.\n",
      "Intel MKL WARNING: Support of Intel(R) Streaming SIMD Extensions 4.2 (Intel(R) SSE4.2) enabled only processors has been deprecated. Intel oneAPI Math Kernel Library 2025.0 will require Intel(R) Advanced Vector Extensions (Intel(R) AVX) instructions.\n"
     ]
    }
   ],
   "source": [
    "from math import log, sqrt, exp\n",
    "from scipy import stats"
   ]
  },
  {
   "cell_type": "markdown",
   "metadata": {},
   "source": [
    "## Class Definition"
   ]
  },
  {
   "cell_type": "code",
   "execution_count": 5,
   "metadata": {},
   "outputs": [],
   "source": [
    "class bsm_call_option(object):\n",
    "    ''' \n",
    "    Class for European call options in BSM model.\n",
    "    \n",
    "    Attributes\n",
    "    ==========\n",
    "    S0: float\n",
    "        initial stock/index level\n",
    "    K: float\n",
    "        strike price\n",
    "    T: float\n",
    "        maturity (in year fractions)\n",
    "    r: float\n",
    "        constant risk-free short rate\n",
    "    sigma: float\n",
    "        volatility factor in diffusion term\n",
    "        \n",
    "    Methods\n",
    "    =======\n",
    "    value: float\n",
    "        returns the present value of call option\n",
    "    vega: float\n",
    "        returns the vega of call option\n",
    "    imp_vol: float\n",
    "        returns the implied volatility given option quote\n",
    "    '''\n",
    "    \n",
    "    def __init__(self, S0, K, T, r, sigma): \n",
    "        self.S0 = float(S0)\n",
    "        self.K = K\n",
    "        self.T = T\n",
    "        self.r = r\n",
    "        self.sigma = sigma\n",
    "\n",
    "    def value(self):\n",
    "        ''' Returns option value.'''\n",
    "        d1 = ((log(self.S0 / self.K) +\n",
    "               (self.r + 0.5 * self.sigma ** 2) * self.T) /\n",
    "               (self.sigma * sqrt(self.T)))\n",
    "        d2 = ((log(self.S0 / self.K) +\n",
    "               (self.r - 0.5 * self.sigma ** 2) * self.T) /\n",
    "               (self.sigma * sqrt(self.T)))\n",
    "        value = (self.S0 * stats.norm.cdf(d1, 0.0, 1.0) -\n",
    "                 self.K * exp(-self.r * self.T) * stats.norm.cdf(d2, 0.0, 1.0)) \n",
    "        return value\n",
    "    \n",
    "    def vega(self):\n",
    "        ''' Returns vega of option. '''\n",
    "        d1 = ((log(self.S0 / self.K) +\n",
    "               (self.r + 0.5 * self.sigma ** 2) * self.T) /\n",
    "               (self.sigma * sqrt(self.T)))\n",
    "        vega = self.S0 * stats.norm.pdf(d1, 0.0, 1.0) * sqrt(self.T)\n",
    "        return vega\n",
    "    \n",
    "    def imp_vol(self, C0, sigma_est=0.2, it=100):\n",
    "        ''' Returns implied volatility given option price.'''\n",
    "        option = bsm_call_option(self.S0, self.K, self.T, self.r, sigma_est) \n",
    "        for i in range(it):\n",
    "            option.sigma -= (option.value() - C0) / option.vega()\n",
    "        return option.sigma\n",
    "\n"
   ]
  },
  {
   "cell_type": "markdown",
   "metadata": {},
   "source": [
    "## Class Usage"
   ]
  },
  {
   "cell_type": "code",
   "execution_count": 6,
   "metadata": {},
   "outputs": [
    {
     "data": {
      "text/plain": [
       "__main__.bsm_call_option"
      ]
     },
     "execution_count": 6,
     "metadata": {},
     "output_type": "execute_result"
    }
   ],
   "source": [
    "o = bsm_call_option(100., 105., 1.0, 0.05, 0.2)\n",
    "type(o)"
   ]
  },
  {
   "cell_type": "code",
   "execution_count": 7,
   "metadata": {},
   "outputs": [
    {
     "data": {
      "text/plain": [
       "8.021352235143176"
      ]
     },
     "execution_count": 7,
     "metadata": {},
     "output_type": "execute_result"
    }
   ],
   "source": [
    "value = o.value()\n",
    "value"
   ]
  },
  {
   "cell_type": "code",
   "execution_count": 8,
   "metadata": {},
   "outputs": [
    {
     "data": {
      "text/plain": [
       "39.67052380842653"
      ]
     },
     "execution_count": 8,
     "metadata": {},
     "output_type": "execute_result"
    }
   ],
   "source": [
    "o.vega()"
   ]
  },
  {
   "cell_type": "code",
   "execution_count": 9,
   "metadata": {},
   "outputs": [
    {
     "data": {
      "text/plain": [
       "0.2"
      ]
     },
     "execution_count": 9,
     "metadata": {},
     "output_type": "execute_result"
    }
   ],
   "source": [
    "o.imp_vol(C0=value)"
   ]
  }
 ],
 "metadata": {
  "kernelspec": {
   "display_name": "base",
   "language": "python",
   "name": "python3"
  },
  "language_info": {
   "codemirror_mode": {
    "name": "ipython",
    "version": 3
   },
   "file_extension": ".py",
   "mimetype": "text/x-python",
   "name": "python",
   "nbconvert_exporter": "python",
   "pygments_lexer": "ipython3",
   "version": "3.10.14"
  }
 },
 "nbformat": 4,
 "nbformat_minor": 2
}
